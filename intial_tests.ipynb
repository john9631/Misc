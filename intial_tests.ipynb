{
 "cells": [
  {
   "cell_type": "code",
   "execution_count": 1,
   "metadata": {},
   "outputs": [],
   "source": [
    "import string\n",
    "import random\n",
    "source = string.ascii_lowercase + string.ascii_uppercase\n",
    "teststring = 'abccdeefg'\n",
    "teststring = ''.join(random.choices(source,k=100000000))\n",
    "b_teststring = teststring.encode()"
   ]
  },
  {
   "cell_type": "code",
   "execution_count": 2,
   "metadata": {},
   "outputs": [],
   "source": [
    "def count_doubles_once(val):  # from article\n",
    "    total = 0\n",
    "    chars = iter(val)\n",
    "    c1 = next(chars)\n",
    "    for c2 in chars:\n",
    "        if c1 == c2:\n",
    "            total += 1\n",
    "        c1 = c2\n",
    "    return total\n",
    "\n",
    "# uint64_t count_byte_doubles(char * str) {\n",
    "#   uint64_t count = 0;\n",
    "#   while (str[0] && str[1]) {\n",
    "#     if (str[0] == str[1]) count++;\n",
    "#     str++;\n",
    "#   }\n",
    "#   return count;\n",
    "# }"
   ]
  },
  {
   "cell_type": "code",
   "execution_count": 3,
   "metadata": {},
   "outputs": [],
   "source": [
    "%load_ext cython"
   ]
  },
  {
   "cell_type": "code",
   "execution_count": 4,
   "metadata": {},
   "outputs": [],
   "source": [
    "%%cython\n",
    "#cython: language_level=3, boundscheck=False, wraparound=False, cdivision=True\n",
    "cimport cython\n",
    "\n",
    "cpdef int c_count(char * str):\n",
    "    cdef int i\n",
    "    cdef int count = 0\n",
    "    for i in range(len(str)-1):\n",
    "        if str[i] == str[i+1]:\n",
    "            count += 1\n",
    "    return count\n",
    "\n",
    "cpdef int c_count2(char * str):\n",
    "    cdef int count = 0, i = 1\n",
    "    cdef int c0 = str[0], c = str[1]\n",
    "    while c:\n",
    "        if c0 == c:\n",
    "            count += 1\n",
    "        i += 1\n",
    "        c0 = c\n",
    "        c = str[i]        \n",
    "    return count"
   ]
  },
  {
   "cell_type": "code",
   "execution_count": 5,
   "metadata": {},
   "outputs": [],
   "source": [
    "%%cython\n",
    "#cython: language_level=3, boundscheck=False, wraparound=False, cdivision=True\n",
    "from cython.parallel import parallel, prange\n",
    "\n",
    "cpdef int c_count3(char * str):\n",
    "    cdef int count = 0, i = 1\n",
    "    cdef int size = len(str)-1\n",
    "    for i in prange(size, num_threads=4, nogil=True):\n",
    "        if str[i] == str[i+1]:\n",
    "            count += 1\n",
    "    return count"
   ]
  },
  {
   "cell_type": "code",
   "execution_count": 7,
   "metadata": {},
   "outputs": [
    {
     "name": "stdout",
     "output_type": "stream",
     "text": [
      "3.4526546001434326 1924295\n",
      "0.09293532371520996 1924295\n",
      "0.08688235282897949 1924295\n",
      "0.0208432674407959 1924295\n",
      "38.103403684211884 for range(len)\n",
      "40.93298963366375 while\n",
      "162.55964260594337 parallel, prange(len)\n"
     ]
    }
   ],
   "source": [
    "import time\n",
    "\n",
    "val = 0\n",
    "t0 = time.time()\n",
    "val = count_doubles_once(teststring)\n",
    "print(time.time() - t0, val)\n",
    "\n",
    "t0 = time.time()\n",
    "val = c_count(b_teststring)\n",
    "print(time.time() - t0, val)\n",
    "\n",
    "t0 = time.time()\n",
    "val = c_count2(b_teststring)\n",
    "print(time.time() - t0, val)\n",
    "\n",
    "t0 = time.time()\n",
    "val = c_count3(b_teststring)\n",
    "print(time.time() - t0, val)\n",
    "\n",
    "print(3.5265986919403076 / 0.09255337715148926, \"for range(len)\")\n",
    "print(3.5265986919403076 / 0.08615541458129883, \"while\")\n",
    "print(3.5265986919403076 / 0.021694183349609375, \"parallel, prange(len)\")"
   ]
  },
  {
   "cell_type": "code",
   "execution_count": null,
   "metadata": {},
   "outputs": [],
   "source": []
  }
 ],
 "metadata": {
  "kernelspec": {
   "display_name": "Python 3",
   "language": "python",
   "name": "python3"
  },
  "language_info": {
   "codemirror_mode": {
    "name": "ipython",
    "version": 3
   },
   "file_extension": ".py",
   "mimetype": "text/x-python",
   "name": "python",
   "nbconvert_exporter": "python",
   "pygments_lexer": "ipython3",
   "version": "3.7.0rc1"
  }
 },
 "nbformat": 4,
 "nbformat_minor": 2
}
